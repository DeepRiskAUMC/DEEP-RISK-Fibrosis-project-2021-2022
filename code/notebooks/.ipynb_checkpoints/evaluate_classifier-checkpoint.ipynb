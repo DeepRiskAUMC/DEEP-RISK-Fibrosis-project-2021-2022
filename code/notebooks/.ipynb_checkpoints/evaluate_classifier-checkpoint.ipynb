{
 "cells": [
  {
   "cell_type": "code",
   "execution_count": 1,
   "id": "950f0ebc",
   "metadata": {},
   "outputs": [
    {
     "ename": "NameError",
     "evalue": "name 'sys' is not defined",
     "output_type": "error",
     "traceback": [
      "\u001b[1;31m---------------------------------------------------------------------------\u001b[0m",
      "\u001b[1;31mNameError\u001b[0m                                 Traceback (most recent call last)",
      "\u001b[1;32m~\\AppData\\Local\\Temp/ipykernel_20024/3528136983.py\u001b[0m in \u001b[0;36m<module>\u001b[1;34m\u001b[0m\n\u001b[0;32m     15\u001b[0m \u001b[1;33m\u001b[0m\u001b[0m\n\u001b[0;32m     16\u001b[0m \u001b[1;31m# own code\u001b[0m\u001b[1;33m\u001b[0m\u001b[1;33m\u001b[0m\u001b[1;33m\u001b[0m\u001b[0m\n\u001b[1;32m---> 17\u001b[1;33m \u001b[0msys\u001b[0m\u001b[1;33m.\u001b[0m\u001b[0mpath\u001b[0m\u001b[1;33m.\u001b[0m\u001b[0mappend\u001b[0m\u001b[1;33m(\u001b[0m\u001b[1;34m'../'\u001b[0m\u001b[1;33m)\u001b[0m\u001b[1;33m\u001b[0m\u001b[1;33m\u001b[0m\u001b[0m\n\u001b[0m\u001b[0;32m     18\u001b[0m \u001b[1;32mfrom\u001b[0m \u001b[0mdatasets\u001b[0m \u001b[1;32mimport\u001b[0m \u001b[0mMyopsDataset2D\u001b[0m\u001b[1;33m,\u001b[0m \u001b[0mDeepRiskDataset2D\u001b[0m\u001b[1;33m\u001b[0m\u001b[1;33m\u001b[0m\u001b[0m\n\u001b[0;32m     19\u001b[0m \u001b[1;32mfrom\u001b[0m \u001b[0mresnet\u001b[0m \u001b[1;32mimport\u001b[0m \u001b[0mLightningResNet\u001b[0m\u001b[1;33m\u001b[0m\u001b[1;33m\u001b[0m\u001b[0m\n",
      "\u001b[1;31mNameError\u001b[0m: name 'sys' is not defined"
     ]
    }
   ],
   "source": [
    "import os\n",
    "import torch\n",
    "import torch.nn as nn\n",
    "import numpy as np\n",
    "import torchvision\n",
    "from torchvision import datasets, models, transforms\n",
    "from torch.utils.data import DataLoader\n",
    "import matplotlib.pyplot as plt\n",
    "from pathlib import Path\n",
    "import torch.nn.functional as F\n",
    "import pytorch_lightning as pl\n",
    "import seaborn as sn\n",
    "import pandas as pd\n",
    "import torchmetrics\n",
    "\n",
    "# own code\n",
    "sys.path.append('../')\n",
    "from datasets import MyopsDataset2D, DeepRiskDataset2D\n",
    "from resnet import LightningResNet\n",
    "from simplenet import LightningSimpleNet\n",
    "from preprocessing import set_image_range, normalize_image\n",
    "from convnext import LightningConvNeXt\n",
    "from train_pl import load_dataset\n"
   ]
  },
  {
   "cell_type": "markdown",
   "id": "68858235",
   "metadata": {},
   "source": [
    "# Load models"
   ]
  },
  {
   "cell_type": "code",
   "execution_count": 2,
   "id": "eef22719",
   "metadata": {},
   "outputs": [
    {
     "data": {
      "text/plain": [
       "LightningConvNeXt(\n",
       "  (downsample_layers): ModuleList(\n",
       "    (0): Sequential(\n",
       "      (0): Conv2d(1, 48, kernel_size=(4, 4), stride=(4, 4))\n",
       "      (1): LayerNorm()\n",
       "    )\n",
       "    (1): Sequential(\n",
       "      (0): LayerNorm()\n",
       "      (1): Conv2d(48, 96, kernel_size=(2, 2), stride=(2, 2))\n",
       "    )\n",
       "    (2): Sequential(\n",
       "      (0): LayerNorm()\n",
       "      (1): Conv2d(96, 192, kernel_size=(2, 2), stride=(2, 2))\n",
       "    )\n",
       "    (3): Sequential(\n",
       "      (0): LayerNorm()\n",
       "      (1): Conv2d(192, 384, kernel_size=(1, 1), stride=(1, 1))\n",
       "    )\n",
       "  )\n",
       "  (stages): ModuleList(\n",
       "    (0): Sequential(\n",
       "      (0): Block(\n",
       "        (dwconv): Conv2d(48, 48, kernel_size=(7, 7), stride=(1, 1), padding=(3, 3), groups=48)\n",
       "        (norm): LayerNorm()\n",
       "        (pwconv1): Linear(in_features=48, out_features=192, bias=True)\n",
       "        (act): GELU()\n",
       "        (pwconv2): Linear(in_features=192, out_features=48, bias=True)\n",
       "        (drop_path): Identity()\n",
       "      )\n",
       "      (1): Block(\n",
       "        (dwconv): Conv2d(48, 48, kernel_size=(7, 7), stride=(1, 1), padding=(3, 3), groups=48)\n",
       "        (norm): LayerNorm()\n",
       "        (pwconv1): Linear(in_features=48, out_features=192, bias=True)\n",
       "        (act): GELU()\n",
       "        (pwconv2): Linear(in_features=192, out_features=48, bias=True)\n",
       "        (drop_path): Identity()\n",
       "      )\n",
       "      (2): Block(\n",
       "        (dwconv): Conv2d(48, 48, kernel_size=(7, 7), stride=(1, 1), padding=(3, 3), groups=48)\n",
       "        (norm): LayerNorm()\n",
       "        (pwconv1): Linear(in_features=48, out_features=192, bias=True)\n",
       "        (act): GELU()\n",
       "        (pwconv2): Linear(in_features=192, out_features=48, bias=True)\n",
       "        (drop_path): Identity()\n",
       "      )\n",
       "    )\n",
       "    (1): Sequential(\n",
       "      (0): Block(\n",
       "        (dwconv): Conv2d(96, 96, kernel_size=(7, 7), stride=(1, 1), padding=(3, 3), groups=96)\n",
       "        (norm): LayerNorm()\n",
       "        (pwconv1): Linear(in_features=96, out_features=384, bias=True)\n",
       "        (act): GELU()\n",
       "        (pwconv2): Linear(in_features=384, out_features=96, bias=True)\n",
       "        (drop_path): Identity()\n",
       "      )\n",
       "      (1): Block(\n",
       "        (dwconv): Conv2d(96, 96, kernel_size=(7, 7), stride=(1, 1), padding=(3, 3), groups=96)\n",
       "        (norm): LayerNorm()\n",
       "        (pwconv1): Linear(in_features=96, out_features=384, bias=True)\n",
       "        (act): GELU()\n",
       "        (pwconv2): Linear(in_features=384, out_features=96, bias=True)\n",
       "        (drop_path): Identity()\n",
       "      )\n",
       "      (2): Block(\n",
       "        (dwconv): Conv2d(96, 96, kernel_size=(7, 7), stride=(1, 1), padding=(3, 3), groups=96)\n",
       "        (norm): LayerNorm()\n",
       "        (pwconv1): Linear(in_features=96, out_features=384, bias=True)\n",
       "        (act): GELU()\n",
       "        (pwconv2): Linear(in_features=384, out_features=96, bias=True)\n",
       "        (drop_path): Identity()\n",
       "      )\n",
       "    )\n",
       "    (2): Sequential(\n",
       "      (0): Block(\n",
       "        (dwconv): Conv2d(192, 192, kernel_size=(7, 7), stride=(1, 1), padding=(3, 3), groups=192)\n",
       "        (norm): LayerNorm()\n",
       "        (pwconv1): Linear(in_features=192, out_features=768, bias=True)\n",
       "        (act): GELU()\n",
       "        (pwconv2): Linear(in_features=768, out_features=192, bias=True)\n",
       "        (drop_path): Identity()\n",
       "      )\n",
       "      (1): Block(\n",
       "        (dwconv): Conv2d(192, 192, kernel_size=(7, 7), stride=(1, 1), padding=(3, 3), groups=192)\n",
       "        (norm): LayerNorm()\n",
       "        (pwconv1): Linear(in_features=192, out_features=768, bias=True)\n",
       "        (act): GELU()\n",
       "        (pwconv2): Linear(in_features=768, out_features=192, bias=True)\n",
       "        (drop_path): Identity()\n",
       "      )\n",
       "      (2): Block(\n",
       "        (dwconv): Conv2d(192, 192, kernel_size=(7, 7), stride=(1, 1), padding=(3, 3), groups=192)\n",
       "        (norm): LayerNorm()\n",
       "        (pwconv1): Linear(in_features=192, out_features=768, bias=True)\n",
       "        (act): GELU()\n",
       "        (pwconv2): Linear(in_features=768, out_features=192, bias=True)\n",
       "        (drop_path): Identity()\n",
       "      )\n",
       "      (3): Block(\n",
       "        (dwconv): Conv2d(192, 192, kernel_size=(7, 7), stride=(1, 1), padding=(3, 3), groups=192)\n",
       "        (norm): LayerNorm()\n",
       "        (pwconv1): Linear(in_features=192, out_features=768, bias=True)\n",
       "        (act): GELU()\n",
       "        (pwconv2): Linear(in_features=768, out_features=192, bias=True)\n",
       "        (drop_path): Identity()\n",
       "      )\n",
       "      (4): Block(\n",
       "        (dwconv): Conv2d(192, 192, kernel_size=(7, 7), stride=(1, 1), padding=(3, 3), groups=192)\n",
       "        (norm): LayerNorm()\n",
       "        (pwconv1): Linear(in_features=192, out_features=768, bias=True)\n",
       "        (act): GELU()\n",
       "        (pwconv2): Linear(in_features=768, out_features=192, bias=True)\n",
       "        (drop_path): Identity()\n",
       "      )\n",
       "      (5): Block(\n",
       "        (dwconv): Conv2d(192, 192, kernel_size=(7, 7), stride=(1, 1), padding=(3, 3), groups=192)\n",
       "        (norm): LayerNorm()\n",
       "        (pwconv1): Linear(in_features=192, out_features=768, bias=True)\n",
       "        (act): GELU()\n",
       "        (pwconv2): Linear(in_features=768, out_features=192, bias=True)\n",
       "        (drop_path): Identity()\n",
       "      )\n",
       "      (6): Block(\n",
       "        (dwconv): Conv2d(192, 192, kernel_size=(7, 7), stride=(1, 1), padding=(3, 3), groups=192)\n",
       "        (norm): LayerNorm()\n",
       "        (pwconv1): Linear(in_features=192, out_features=768, bias=True)\n",
       "        (act): GELU()\n",
       "        (pwconv2): Linear(in_features=768, out_features=192, bias=True)\n",
       "        (drop_path): Identity()\n",
       "      )\n",
       "      (7): Block(\n",
       "        (dwconv): Conv2d(192, 192, kernel_size=(7, 7), stride=(1, 1), padding=(3, 3), groups=192)\n",
       "        (norm): LayerNorm()\n",
       "        (pwconv1): Linear(in_features=192, out_features=768, bias=True)\n",
       "        (act): GELU()\n",
       "        (pwconv2): Linear(in_features=768, out_features=192, bias=True)\n",
       "        (drop_path): Identity()\n",
       "      )\n",
       "      (8): Block(\n",
       "        (dwconv): Conv2d(192, 192, kernel_size=(7, 7), stride=(1, 1), padding=(3, 3), groups=192)\n",
       "        (norm): LayerNorm()\n",
       "        (pwconv1): Linear(in_features=192, out_features=768, bias=True)\n",
       "        (act): GELU()\n",
       "        (pwconv2): Linear(in_features=768, out_features=192, bias=True)\n",
       "        (drop_path): Identity()\n",
       "      )\n",
       "    )\n",
       "    (3): Sequential(\n",
       "      (0): Block(\n",
       "        (dwconv): Conv2d(384, 384, kernel_size=(7, 7), stride=(1, 1), padding=(3, 3), groups=384)\n",
       "        (norm): LayerNorm()\n",
       "        (pwconv1): Linear(in_features=384, out_features=1536, bias=True)\n",
       "        (act): GELU()\n",
       "        (pwconv2): Linear(in_features=1536, out_features=384, bias=True)\n",
       "        (drop_path): Identity()\n",
       "      )\n",
       "      (1): Block(\n",
       "        (dwconv): Conv2d(384, 384, kernel_size=(7, 7), stride=(1, 1), padding=(3, 3), groups=384)\n",
       "        (norm): LayerNorm()\n",
       "        (pwconv1): Linear(in_features=384, out_features=1536, bias=True)\n",
       "        (act): GELU()\n",
       "        (pwconv2): Linear(in_features=1536, out_features=384, bias=True)\n",
       "        (drop_path): Identity()\n",
       "      )\n",
       "      (2): Block(\n",
       "        (dwconv): Conv2d(384, 384, kernel_size=(7, 7), stride=(1, 1), padding=(3, 3), groups=384)\n",
       "        (norm): LayerNorm()\n",
       "        (pwconv1): Linear(in_features=384, out_features=1536, bias=True)\n",
       "        (act): GELU()\n",
       "        (pwconv2): Linear(in_features=1536, out_features=384, bias=True)\n",
       "        (drop_path): Identity()\n",
       "      )\n",
       "    )\n",
       "  )\n",
       "  (norm): LayerNorm()\n",
       "  (classifier): Conv2d(384, 1, kernel_size=(1, 1), stride=(1, 1))\n",
       "  (avgpool): AdaptiveAvgPool2d(output_size=(1, 1))\n",
       ")"
      ]
     },
     "execution_count": 2,
     "metadata": {},
     "output_type": "execute_result"
    }
   ],
   "source": [
    "# load a trained model (no training here, so (lr, decay, pretrained) are arbitrarily chosen)\n",
    "lr = decay = pretrained = 0\n",
    "\"\"\"resnet18 = LightningResNet(lr, decay, pretrained, 'resnet18', n_cls=1)\n",
    "resnet18.load_state_dict(torch.load(r\"..\\lightning_logs\\version_4\\checkpoints\\epoch=49-step=5249.ckpt\", map_location=torch.device('cpu'))['state_dict'])\n",
    "resnet18.eval()\n",
    "\n",
    "#resnet18NoCAM = LightningResNetNoCAM(lr, decay, pretrained, 'resnet18nocam', n_cls=1)\n",
    "#modelNoCAM.load_state_dict(torch.load(r\"..\\lightning_logs\\version_1\\checkpoints\\epoch=49-step=5249.ckpt\", map_location=torch.device('cpu'))['state_dict'])\n",
    "#modelNoCAM.eval()\n",
    "\n",
    "resnet50 = LightningResNet(lr, decay, pretrained, 'resnet50', n_cls=1)\n",
    "resnet50.load_state_dict(torch.load(r\"..\\lightning_logs\\version_6\\checkpoints\\epoch=49-step=5249.ckpt\", map_location=torch.device('cpu'))['state_dict'])\n",
    "resnet50.eval()\n",
    "\n",
    "simplenet = LightningSimpleNet(lr, decay)\n",
    "simplenet.load_state_dict(torch.load(r\"..\\lightning_logs\\version_5\\checkpoints\\epoch=49-step=5249.ckpt\", map_location=torch.device('cpu'))['state_dict'])\n",
    "simplenet.eval()\n",
    "\n",
    "resnet18_pretrain = LightningResNet(lr, decay, pretrained, 'resnet18', n_cls=1)\n",
    "resnet18_pretrain.load_state_dict(torch.load(r\"..\\lightning_logs\\version_7\\checkpoints\\epoch=49-step=5249.ckpt\", map_location=torch.device('cpu'))['state_dict'])\n",
    "resnet18_pretrain.eval()\n",
    "\n",
    "resnet18_highres = LightningResNet(lr, decay, pretrained, 'resnet18', n_cls=1, highres=True)\n",
    "resnet18_highres.load_state_dict(torch.load(r\"..\\lightning_logs\\version_8\\checkpoints\\epoch=49-step=5249.ckpt\", map_location=torch.device('cpu'))['state_dict'])\n",
    "resnet18_highres.eval()\n",
    "print(\"done!\")\"\"\"\n",
    "resnet18_7x7 = LightningResNet(lr, decay, pretrained, 'resnet18', num_classes=1, highres=False)\n",
    "resnet18_7x7.load_state_dict(torch.load(r\"..\\lightning_logs\\version_20\\checkpoints\\epoch=79-step=11119.ckpt\", map_location=torch.device('cpu'))['state_dict'])\n",
    "resnet18_7x7.eval()\n",
    "\n",
    "resnet18_14x14 = LightningResNet(lr, decay, pretrained, 'resnet18', num_classes=1, highres=True)\n",
    "resnet18_14x14.load_state_dict(torch.load(r\"..\\lightning_logs\\version_21\\checkpoints\\epoch=79-step=11119.ckpt\", map_location=torch.device('cpu'))['state_dict'])\n",
    "resnet18_14x14.eval()\n",
    "\n",
    "convnext_wide_shallow = LightningConvNeXt(lr=lr, weight_decay=decay, in_chans=1, num_classes=1, depths=[3, 3, 3, 3], dims=[96, 192, 384, 768], strides=[4, 2, 2, 1])\n",
    "convnext_wide_shallow.load_state_dict(torch.load(r\"..\\lightning_logs\\version_22\\checkpoints\\epoch=79-step=11119.ckpt\", map_location=torch.device('cpu'))['state_dict'])\n",
    "convnext_wide_shallow.eval()\n",
    "\n",
    "convnext_wide_medium = LightningConvNeXt(lr=lr, weight_decay=decay, in_chans=1, num_classes=1, depths=[3, 3, 6, 3], dims=[96, 192, 384, 768], strides=[4, 2, 2, 1])\n",
    "convnext_wide_medium.load_state_dict(torch.load(r\"..\\lightning_logs\\version_23\\checkpoints\\epoch=79-step=11119.ckpt\", map_location=torch.device('cpu'))['state_dict'])\n",
    "convnext_wide_medium.eval()\n",
    "\n",
    "convnext_wide_deep = LightningConvNeXt(lr=lr, weight_decay=decay, in_chans=1, num_classes=1, depths=[3, 3, 9, 3], dims=[96, 192, 384, 768], strides=[4, 2, 2, 1])\n",
    "convnext_wide_deep.load_state_dict(torch.load(r\"..\\lightning_logs\\version_24\\checkpoints\\epoch=79-step=11119.ckpt\", map_location=torch.device('cpu'))['state_dict'])\n",
    "convnext_wide_deep.eval()\n",
    "\n",
    "convnext_narrow_shallow = LightningConvNeXt(lr=lr, weight_decay=decay, in_chans=1, num_classes=1, depths=[3, 3, 3, 3], dims=[48, 96, 192, 384], strides=[4, 2, 2, 1])\n",
    "convnext_narrow_shallow.load_state_dict(torch.load(r\"..\\lightning_logs\\version_25\\checkpoints\\epoch=79-step=11119.ckpt\", map_location=torch.device('cpu'))['state_dict'])\n",
    "convnext_narrow_shallow.eval()\n",
    "\n",
    "convnext_narrow_medium = LightningConvNeXt(lr=lr, weight_decay=decay, in_chans=1, num_classes=1, depths=[3, 3, 6, 3], dims=[48, 96, 192, 384], strides=[4, 2, 2, 1])\n",
    "convnext_narrow_medium.load_state_dict(torch.load(r\"..\\lightning_logs\\version_26\\checkpoints\\epoch=79-step=11119.ckpt\", map_location=torch.device('cpu'))['state_dict'])\n",
    "convnext_narrow_medium.eval()\n",
    "\n",
    "convnext_narrow_deep = LightningConvNeXt(lr=lr, weight_decay=decay, in_chans=1, num_classes=1, depths=[3, 3, 9, 3], dims=[48, 96, 192, 384], strides=[4, 2, 2, 1])\n",
    "convnext_narrow_deep.load_state_dict(torch.load(r\"..\\lightning_logs\\version_27\\checkpoints\\epoch=79-step=11119.ckpt\", map_location=torch.device('cpu'))['state_dict'])\n",
    "convnext_narrow_deep.eval()\n",
    "\n"
   ]
  },
  {
   "cell_type": "markdown",
   "id": "9ca1b09e",
   "metadata": {},
   "source": [
    "# Setup dataloaders"
   ]
  },
  {
   "cell_type": "code",
   "execution_count": 3,
   "id": "ef348035",
   "metadata": {},
   "outputs": [
    {
     "name": "stderr",
     "output_type": "stream",
     "text": [
      "Global seed set to 42\n"
     ]
    },
    {
     "name": "stdout",
     "output_type": "stream",
     "text": [
      "train slices: 2235 positive: 1165\n",
      "val slices: 556 positive: 265\n",
      "Compose(\n",
      "    Resize(size=(224, 224), interpolation=bicubic, max_size=None, antialias=None)\n",
      "    normalize_img()\n",
      ")\n",
      "Compose(\n",
      "    Resize(size=(224, 224), interpolation=bicubic, max_size=None, antialias=None)\n",
      "    normalize_img()\n",
      ")\n"
     ]
    }
   ],
   "source": [
    "\"\"\"pl.seed_everything(42, workers=True)\n",
    "device = torch.device(\"cuda:0\" if torch.cuda.is_available() else \"cpu\")\n",
    "# path names\n",
    "DATA_DIR = Path(r\"\\\\amc.intra\\users\\R\\rcklein\\home\\deeprisk\\weakly_supervised\\data\")\n",
    "IMG_DIR = DATA_DIR.joinpath(\"all_niftis_n=657\")\n",
    "LABELS_FILE = DATA_DIR.joinpath(\"weak_labels_n=657.xlsx\")\n",
    "MYOSEG_DIR = DATA_DIR.joinpath(r\"nnUnet_results\\nnUNet\\2d\\Task500_MyocardSegmentation\\predictions\")\n",
    "\n",
    "# transforms\n",
    "train_transforms = transforms.Compose([\n",
    "    transforms.Resize((224, 224), interpolation=transforms.InterpolationMode.BICUBIC),\n",
    "    normalize_image()\n",
    "])\n",
    "\n",
    "val_transforms = transforms.Compose([\n",
    "    transforms.Resize((224, 224), interpolation=transforms.InterpolationMode.BICUBIC),\n",
    "    normalize_image()\n",
    "])\n",
    "\n",
    "# dataloaders\n",
    "deeprisk_train = DeepRiskDataset2D(IMG_DIR, LABELS_FILE, transform=train_transforms, train=True, train_frac = 0.8, split_seed=42, myoseg_dir=MYOSEG_DIR) \n",
    "deeprisk_val = DeepRiskDataset2D(IMG_DIR, LABELS_FILE, transform=val_transforms, train=False, train_frac = 0.8, split_seed=42, myoseg_dir=MYOSEG_DIR)\n",
    "print(\"train slices:\", len(deeprisk_train), \"positive:\", len([x for x in deeprisk_train.labels if x == 1]))\n",
    "print(\"val slices:\", len(deeprisk_val), \"positive:\", len([x for x in deeprisk_val.labels if x == 1]))\n",
    "print(train_transforms)\n",
    "print(val_transforms)\n",
    "\n",
    "train_dataloader = DataLoader(deeprisk_train, batch_size=8, shuffle=False)\n",
    "val_dataloader = DataLoader(deeprisk_val, batch_size=8, shuffle=False)\n",
    "dataloaders = {'train': train_dataloader, 'val' : val_dataloader}\n",
    "dataset_sizes = {'train' : len(deeprisk_train), 'val' :len(deeprisk_val) }\"\"\"\n",
    "\n",
    "device = torch.device(\"cuda:0\" if torch.cuda.is_available() else \"cpu\")\n",
    "hparams = Namespace()\n",
    "# choose dataset\n",
    "hparams.dataset = 'deeprisk'\n",
    "# reproducability\n",
    "hparams.trainseed = 42\n",
    "hparams.splitseed = 42\n",
    "hparams.train_frac = 0.8\n",
    "# paths\n",
    "hparams.data_path = r\"\\\\amc.intra\\users\\R\\rcklein\\home\\deeprisk\\weakly_supervised\\data\"\n",
    "hparams.img_path = r\"all_niftis_n=657\"\n",
    "hparams.weak_labels_path = r\"weak_labels_n=657.xlsx\"\n",
    "hparams.myoseg_path = r\"nnUnet_results\\nnUNet\\2d\\Task500_MyocardSegmentation\\predictions\"\n",
    "# data augmentation\n",
    "hparams.image_norm = \"per_image\"\n",
    "hparams.no_roi_crop = False\n",
    "hparams.include_no_myo = False\n",
    "hparams.roi_crop = \"fixed\" # \"fitted\", or \"fixed\"\n",
    "hparams.center_crop = 224\n",
    "hparams.input_size = 224\n",
    "hparams.rotate = 0\n",
    "hparams.translate = (0, 0)\n",
    "hparams.scale = (1, 1)\n",
    "hparams.shear = (0, 0, 0, 0)\n",
    "hparams.brightness = 0\n",
    "hparams.contrast = 0\n",
    "hparams.hflip = True\n",
    "hparams.vflip = True\n",
    "print(f'{hparams=}')\n",
    "\n",
    "pl.seed_everything(hparams.trainseed, workers=True)\n",
    "# prepare dataloaders\n",
    "dataset_train, dataset_val = load_dataset(hparams)\n",
    "print(f\"Train data: {len(dataset_train)}, validation data {len(dataset_val)}\")\n",
    "\n",
    "train_loader = DataLoader(dataset_train,\n",
    "                            batch_size=8,\n",
    "                            shuffle=False,\n",
    "                            drop_last=False,\n",
    "                            num_workers=1)\n",
    "val_loader = DataLoader(dataset_val,\n",
    "                        batch_size=8,\n",
    "                        shuffle=False,\n",
    "                        drop_last=False,\n",
    "                        num_workers=1)\n",
    "\n",
    "\n",
    "confusion_matrices = dict()"
   ]
  },
  {
   "cell_type": "code",
   "execution_count": 4,
   "id": "502ac07f",
   "metadata": {},
   "outputs": [],
   "source": [
    "\n",
    "\n",
    "def evaluate(dataloader, net):\n",
    "    # make confusion matrix\n",
    "    confusion_matrix = np.array([[0, 0], [0, 0]])\n",
    "    for _, inputs, labels in dataloader:\n",
    "        inputs = inputs.to(device)\n",
    "        labels = labels.to(device)\n",
    "\n",
    "        outputs = net(inputs)\n",
    "        pred = (torch.sigmoid(outputs) > 0.5)[:, 0]\n",
    "        \n",
    "        confusion_matrix[0][0] += ((pred == 0) * (pred == labels)).sum().item()\n",
    "        confusion_matrix[0][1] += ((pred == 0) * (pred != labels)).sum().item()\n",
    "        confusion_matrix[1][0] += ((pred == 1) * (pred != labels)).sum().item()\n",
    "        confusion_matrix[1][1] += ((pred == 1) * (pred == labels)).sum().item()\n",
    "    return confusion_matrix\n",
    "\n",
    "def acc_torchmetrics(dataloader, net):\n",
    "    metric = torchmetrics.Accuracy()\n",
    "    for _, inputs, labels, in dataloader:\n",
    "        inputs = inputs.to(device)\n",
    "        labels = labels.to(device)\n",
    "        outputs = net(inputs)\n",
    "        pred = torch.sigmoid(outputs)[:, 0]\n",
    "        acc = metric(pred, labels)\n",
    "        #print(f\"{pred=}\")\n",
    "        #print(f\"{labels=}\")\n",
    "        #print(f\"Accuracy on batch {acc}\")\n",
    "    acc = metric.compute()\n",
    "    print(f\"Accuracy on all data: {acc}\")\n",
    "    return\n",
    "    \n",
    "    \n",
    "\n",
    "def plot_confusion_matrix(confusion_matrix):\n",
    "    df_cm = pd.DataFrame(confusion_matrix, index = [i for i in [\"Geen Fibrose\", \"Fibrose\"]], columns = [i for i in  [\"Geen Fibrose\", \"Fibrose\"]])\n",
    "    plt.figure(figsize = (10, 7))\n",
    "    \n",
    "    sn.heatmap(df_cm, annot=True, fmt='g')\n",
    "    plt.xlabel(\"LABELS\")\n",
    "    plt.ylabel(\"PREDICTED\")\n",
    "    plt.plot()\n",
    "    \n",
    "def show_results(confusion_matrix):\n",
    "    print(\"Accuracy = \", confusion_matrix.diagonal().sum() / confusion_matrix.sum())\n",
    "    plot_confusion_matrix(confusion_matrix)\n",
    "    return"
   ]
  },
  {
   "cell_type": "markdown",
   "id": "838e7960",
   "metadata": {},
   "source": [
    "# Run model evaluation "
   ]
  },
  {
   "cell_type": "code",
   "execution_count": 5,
   "id": "1f4362e8",
   "metadata": {},
   "outputs": [],
   "source": [
    "confusion_matrices[\"resnet18_7x7_train\"] = evaluate(train_dataloader, resnet18_7x7)\n",
    "confusion_matrices[\"resnet18_7x7_val\"] = evaluate(val_dataloader, resnet18_7x7)"
   ]
  },
  {
   "cell_type": "code",
   "execution_count": 6,
   "id": "588d67b4",
   "metadata": {},
   "outputs": [],
   "source": [
    "confusion_matrices[\"resnet18_14x14_train\"] = evaluate(train_dataloader, resnet18_14x14)\n",
    "confusion_matrices[\"resnet18_14x14_val\"] = evaluate(val_dataloader, resnet18_14x14)"
   ]
  },
  {
   "cell_type": "code",
   "execution_count": 7,
   "id": "450c4131",
   "metadata": {},
   "outputs": [],
   "source": [
    "confusion_matrices[\"convnext_wide_shallow_train\"] = evaluate(train_dataloader, convnext_wide_shallow)\n",
    "confusion_matrices[\"convnext_wide_shallow_val\"] = evaluate(val_dataloader, convnext_wide_shallow)"
   ]
  },
  {
   "cell_type": "code",
   "execution_count": 8,
   "id": "bdffcc5f",
   "metadata": {},
   "outputs": [],
   "source": [
    "confusion_matrices[\"convnext_wide_medium_train\"] = evaluate(train_dataloader, convnext_wide_medium)\n",
    "confusion_matrices[\"convnext_wide_medium_val\"] = evaluate(val_dataloader, convnext_wide_medium)"
   ]
  },
  {
   "cell_type": "code",
   "execution_count": 15,
   "id": "e1bed220",
   "metadata": {},
   "outputs": [
    {
     "ename": "RuntimeError",
     "evalue": "[enforce fail at ..\\c10\\core\\CPUAllocator.cpp:76] data. DefaultCPUAllocator: not enough memory: you tried to allocate 4816896 bytes.",
     "output_type": "error",
     "traceback": [
      "\u001b[1;31m---------------------------------------------------------------------------\u001b[0m",
      "\u001b[1;31mRuntimeError\u001b[0m                              Traceback (most recent call last)",
      "\u001b[1;32m~\\AppData\\Local\\Temp/ipykernel_14956/3903313068.py\u001b[0m in \u001b[0;36m<module>\u001b[1;34m\u001b[0m\n\u001b[1;32m----> 1\u001b[1;33m \u001b[0mconfusion_matrices\u001b[0m\u001b[1;33m[\u001b[0m\u001b[1;34m\"convnext_wide_deep_train\"\u001b[0m\u001b[1;33m]\u001b[0m \u001b[1;33m=\u001b[0m \u001b[0mevaluate\u001b[0m\u001b[1;33m(\u001b[0m\u001b[0mtrain_dataloader\u001b[0m\u001b[1;33m,\u001b[0m \u001b[0mconvnext_wide_deep\u001b[0m\u001b[1;33m)\u001b[0m\u001b[1;33m\u001b[0m\u001b[1;33m\u001b[0m\u001b[0m\n\u001b[0m\u001b[0;32m      2\u001b[0m \u001b[0mconfusion_matrices\u001b[0m\u001b[1;33m[\u001b[0m\u001b[1;34m\"convnext_wide_deep_val\"\u001b[0m\u001b[1;33m]\u001b[0m \u001b[1;33m=\u001b[0m \u001b[0mevaluate\u001b[0m\u001b[1;33m(\u001b[0m\u001b[0mval_dataloader\u001b[0m\u001b[1;33m,\u001b[0m \u001b[0mconvnext_wide_deep\u001b[0m\u001b[1;33m)\u001b[0m\u001b[1;33m\u001b[0m\u001b[1;33m\u001b[0m\u001b[0m\n",
      "\u001b[1;32m~\\AppData\\Local\\Temp/ipykernel_14956/2497229140.py\u001b[0m in \u001b[0;36mevaluate\u001b[1;34m(dataloader, net)\u001b[0m\n\u001b[0;32m      6\u001b[0m         \u001b[0mlabels\u001b[0m \u001b[1;33m=\u001b[0m \u001b[0mlabels\u001b[0m\u001b[1;33m.\u001b[0m\u001b[0mto\u001b[0m\u001b[1;33m(\u001b[0m\u001b[0mdevice\u001b[0m\u001b[1;33m)\u001b[0m\u001b[1;33m\u001b[0m\u001b[1;33m\u001b[0m\u001b[0m\n\u001b[0;32m      7\u001b[0m \u001b[1;33m\u001b[0m\u001b[0m\n\u001b[1;32m----> 8\u001b[1;33m         \u001b[0moutputs\u001b[0m \u001b[1;33m=\u001b[0m \u001b[0mnet\u001b[0m\u001b[1;33m(\u001b[0m\u001b[0minputs\u001b[0m\u001b[1;33m)\u001b[0m\u001b[1;33m\u001b[0m\u001b[1;33m\u001b[0m\u001b[0m\n\u001b[0m\u001b[0;32m      9\u001b[0m         \u001b[0mpred\u001b[0m \u001b[1;33m=\u001b[0m \u001b[1;33m(\u001b[0m\u001b[0mtorch\u001b[0m\u001b[1;33m.\u001b[0m\u001b[0msigmoid\u001b[0m\u001b[1;33m(\u001b[0m\u001b[0moutputs\u001b[0m\u001b[1;33m)\u001b[0m \u001b[1;33m>\u001b[0m \u001b[1;36m0.5\u001b[0m\u001b[1;33m)\u001b[0m\u001b[1;33m[\u001b[0m\u001b[1;33m:\u001b[0m\u001b[1;33m,\u001b[0m \u001b[1;36m0\u001b[0m\u001b[1;33m]\u001b[0m\u001b[1;33m\u001b[0m\u001b[1;33m\u001b[0m\u001b[0m\n\u001b[0;32m     10\u001b[0m \u001b[1;33m\u001b[0m\u001b[0m\n",
      "\u001b[1;32m~\\Anaconda3\\envs\\deeprisk_weak\\lib\\site-packages\\torch\\nn\\modules\\module.py\u001b[0m in \u001b[0;36m_call_impl\u001b[1;34m(self, *input, **kwargs)\u001b[0m\n\u001b[0;32m   1100\u001b[0m         if not (self._backward_hooks or self._forward_hooks or self._forward_pre_hooks or _global_backward_hooks\n\u001b[0;32m   1101\u001b[0m                 or _global_forward_hooks or _global_forward_pre_hooks):\n\u001b[1;32m-> 1102\u001b[1;33m             \u001b[1;32mreturn\u001b[0m \u001b[0mforward_call\u001b[0m\u001b[1;33m(\u001b[0m\u001b[1;33m*\u001b[0m\u001b[0minput\u001b[0m\u001b[1;33m,\u001b[0m \u001b[1;33m**\u001b[0m\u001b[0mkwargs\u001b[0m\u001b[1;33m)\u001b[0m\u001b[1;33m\u001b[0m\u001b[1;33m\u001b[0m\u001b[0m\n\u001b[0m\u001b[0;32m   1103\u001b[0m         \u001b[1;31m# Do not call functions when jit is used\u001b[0m\u001b[1;33m\u001b[0m\u001b[1;33m\u001b[0m\u001b[1;33m\u001b[0m\u001b[0m\n\u001b[0;32m   1104\u001b[0m         \u001b[0mfull_backward_hooks\u001b[0m\u001b[1;33m,\u001b[0m \u001b[0mnon_full_backward_hooks\u001b[0m \u001b[1;33m=\u001b[0m \u001b[1;33m[\u001b[0m\u001b[1;33m]\u001b[0m\u001b[1;33m,\u001b[0m \u001b[1;33m[\u001b[0m\u001b[1;33m]\u001b[0m\u001b[1;33m\u001b[0m\u001b[1;33m\u001b[0m\u001b[0m\n",
      "\u001b[1;32mH:\\deeprisk\\weakly_supervised\\code\\convnext.py\u001b[0m in \u001b[0;36mforward\u001b[1;34m(self, x)\u001b[0m\n\u001b[0;32m    104\u001b[0m             \u001b[1;31m#print(f'{x.shape=}')\u001b[0m\u001b[1;33m\u001b[0m\u001b[1;33m\u001b[0m\u001b[1;33m\u001b[0m\u001b[0m\n\u001b[0;32m    105\u001b[0m             \u001b[0mx\u001b[0m \u001b[1;33m=\u001b[0m \u001b[0mself\u001b[0m\u001b[1;33m.\u001b[0m\u001b[0mdownsample_layers\u001b[0m\u001b[1;33m[\u001b[0m\u001b[0mi\u001b[0m\u001b[1;33m]\u001b[0m\u001b[1;33m(\u001b[0m\u001b[0mx\u001b[0m\u001b[1;33m)\u001b[0m\u001b[1;33m\u001b[0m\u001b[1;33m\u001b[0m\u001b[0m\n\u001b[1;32m--> 106\u001b[1;33m             \u001b[0mx\u001b[0m \u001b[1;33m=\u001b[0m \u001b[0mself\u001b[0m\u001b[1;33m.\u001b[0m\u001b[0mstages\u001b[0m\u001b[1;33m[\u001b[0m\u001b[0mi\u001b[0m\u001b[1;33m]\u001b[0m\u001b[1;33m(\u001b[0m\u001b[0mx\u001b[0m\u001b[1;33m)\u001b[0m\u001b[1;33m\u001b[0m\u001b[1;33m\u001b[0m\u001b[0m\n\u001b[0m\u001b[0;32m    107\u001b[0m         \u001b[1;31m#print(f'{x.shape=}')\u001b[0m\u001b[1;33m\u001b[0m\u001b[1;33m\u001b[0m\u001b[1;33m\u001b[0m\u001b[0m\n\u001b[0;32m    108\u001b[0m         \u001b[0mx\u001b[0m \u001b[1;33m=\u001b[0m \u001b[0mself\u001b[0m\u001b[1;33m.\u001b[0m\u001b[0mnorm\u001b[0m\u001b[1;33m(\u001b[0m\u001b[0mx\u001b[0m\u001b[1;33m)\u001b[0m\u001b[1;33m\u001b[0m\u001b[1;33m\u001b[0m\u001b[0m\n",
      "\u001b[1;32m~\\Anaconda3\\envs\\deeprisk_weak\\lib\\site-packages\\torch\\nn\\modules\\module.py\u001b[0m in \u001b[0;36m_call_impl\u001b[1;34m(self, *input, **kwargs)\u001b[0m\n\u001b[0;32m   1100\u001b[0m         if not (self._backward_hooks or self._forward_hooks or self._forward_pre_hooks or _global_backward_hooks\n\u001b[0;32m   1101\u001b[0m                 or _global_forward_hooks or _global_forward_pre_hooks):\n\u001b[1;32m-> 1102\u001b[1;33m             \u001b[1;32mreturn\u001b[0m \u001b[0mforward_call\u001b[0m\u001b[1;33m(\u001b[0m\u001b[1;33m*\u001b[0m\u001b[0minput\u001b[0m\u001b[1;33m,\u001b[0m \u001b[1;33m**\u001b[0m\u001b[0mkwargs\u001b[0m\u001b[1;33m)\u001b[0m\u001b[1;33m\u001b[0m\u001b[1;33m\u001b[0m\u001b[0m\n\u001b[0m\u001b[0;32m   1103\u001b[0m         \u001b[1;31m# Do not call functions when jit is used\u001b[0m\u001b[1;33m\u001b[0m\u001b[1;33m\u001b[0m\u001b[1;33m\u001b[0m\u001b[0m\n\u001b[0;32m   1104\u001b[0m         \u001b[0mfull_backward_hooks\u001b[0m\u001b[1;33m,\u001b[0m \u001b[0mnon_full_backward_hooks\u001b[0m \u001b[1;33m=\u001b[0m \u001b[1;33m[\u001b[0m\u001b[1;33m]\u001b[0m\u001b[1;33m,\u001b[0m \u001b[1;33m[\u001b[0m\u001b[1;33m]\u001b[0m\u001b[1;33m\u001b[0m\u001b[1;33m\u001b[0m\u001b[0m\n",
      "\u001b[1;32m~\\Anaconda3\\envs\\deeprisk_weak\\lib\\site-packages\\torch\\nn\\modules\\container.py\u001b[0m in \u001b[0;36mforward\u001b[1;34m(self, input)\u001b[0m\n\u001b[0;32m    139\u001b[0m     \u001b[1;32mdef\u001b[0m \u001b[0mforward\u001b[0m\u001b[1;33m(\u001b[0m\u001b[0mself\u001b[0m\u001b[1;33m,\u001b[0m \u001b[0minput\u001b[0m\u001b[1;33m)\u001b[0m\u001b[1;33m:\u001b[0m\u001b[1;33m\u001b[0m\u001b[1;33m\u001b[0m\u001b[0m\n\u001b[0;32m    140\u001b[0m         \u001b[1;32mfor\u001b[0m \u001b[0mmodule\u001b[0m \u001b[1;32min\u001b[0m \u001b[0mself\u001b[0m\u001b[1;33m:\u001b[0m\u001b[1;33m\u001b[0m\u001b[1;33m\u001b[0m\u001b[0m\n\u001b[1;32m--> 141\u001b[1;33m             \u001b[0minput\u001b[0m \u001b[1;33m=\u001b[0m \u001b[0mmodule\u001b[0m\u001b[1;33m(\u001b[0m\u001b[0minput\u001b[0m\u001b[1;33m)\u001b[0m\u001b[1;33m\u001b[0m\u001b[1;33m\u001b[0m\u001b[0m\n\u001b[0m\u001b[0;32m    142\u001b[0m         \u001b[1;32mreturn\u001b[0m \u001b[0minput\u001b[0m\u001b[1;33m\u001b[0m\u001b[1;33m\u001b[0m\u001b[0m\n\u001b[0;32m    143\u001b[0m \u001b[1;33m\u001b[0m\u001b[0m\n",
      "\u001b[1;32m~\\Anaconda3\\envs\\deeprisk_weak\\lib\\site-packages\\torch\\nn\\modules\\module.py\u001b[0m in \u001b[0;36m_call_impl\u001b[1;34m(self, *input, **kwargs)\u001b[0m\n\u001b[0;32m   1100\u001b[0m         if not (self._backward_hooks or self._forward_hooks or self._forward_pre_hooks or _global_backward_hooks\n\u001b[0;32m   1101\u001b[0m                 or _global_forward_hooks or _global_forward_pre_hooks):\n\u001b[1;32m-> 1102\u001b[1;33m             \u001b[1;32mreturn\u001b[0m \u001b[0mforward_call\u001b[0m\u001b[1;33m(\u001b[0m\u001b[1;33m*\u001b[0m\u001b[0minput\u001b[0m\u001b[1;33m,\u001b[0m \u001b[1;33m**\u001b[0m\u001b[0mkwargs\u001b[0m\u001b[1;33m)\u001b[0m\u001b[1;33m\u001b[0m\u001b[1;33m\u001b[0m\u001b[0m\n\u001b[0m\u001b[0;32m   1103\u001b[0m         \u001b[1;31m# Do not call functions when jit is used\u001b[0m\u001b[1;33m\u001b[0m\u001b[1;33m\u001b[0m\u001b[1;33m\u001b[0m\u001b[0m\n\u001b[0;32m   1104\u001b[0m         \u001b[0mfull_backward_hooks\u001b[0m\u001b[1;33m,\u001b[0m \u001b[0mnon_full_backward_hooks\u001b[0m \u001b[1;33m=\u001b[0m \u001b[1;33m[\u001b[0m\u001b[1;33m]\u001b[0m\u001b[1;33m,\u001b[0m \u001b[1;33m[\u001b[0m\u001b[1;33m]\u001b[0m\u001b[1;33m\u001b[0m\u001b[1;33m\u001b[0m\u001b[0m\n",
      "\u001b[1;32mH:\\deeprisk\\weakly_supervised\\code\\convnext.py\u001b[0m in \u001b[0;36mforward\u001b[1;34m(self, x)\u001b[0m\n\u001b[0;32m    235\u001b[0m         \u001b[0mx\u001b[0m \u001b[1;33m=\u001b[0m \u001b[0mself\u001b[0m\u001b[1;33m.\u001b[0m\u001b[0mdwconv\u001b[0m\u001b[1;33m(\u001b[0m\u001b[0mx\u001b[0m\u001b[1;33m)\u001b[0m\u001b[1;33m\u001b[0m\u001b[1;33m\u001b[0m\u001b[0m\n\u001b[0;32m    236\u001b[0m         \u001b[0mx\u001b[0m \u001b[1;33m=\u001b[0m \u001b[0mx\u001b[0m\u001b[1;33m.\u001b[0m\u001b[0mpermute\u001b[0m\u001b[1;33m(\u001b[0m\u001b[1;36m0\u001b[0m\u001b[1;33m,\u001b[0m \u001b[1;36m2\u001b[0m\u001b[1;33m,\u001b[0m \u001b[1;36m3\u001b[0m\u001b[1;33m,\u001b[0m \u001b[1;36m1\u001b[0m\u001b[1;33m)\u001b[0m \u001b[1;31m# (N, C, H, W) -> (N, H, W, C)\u001b[0m\u001b[1;33m\u001b[0m\u001b[1;33m\u001b[0m\u001b[0m\n\u001b[1;32m--> 237\u001b[1;33m         \u001b[0mx\u001b[0m \u001b[1;33m=\u001b[0m \u001b[0mself\u001b[0m\u001b[1;33m.\u001b[0m\u001b[0mnorm\u001b[0m\u001b[1;33m(\u001b[0m\u001b[0mx\u001b[0m\u001b[1;33m)\u001b[0m\u001b[1;33m\u001b[0m\u001b[1;33m\u001b[0m\u001b[0m\n\u001b[0m\u001b[0;32m    238\u001b[0m         \u001b[0mx\u001b[0m \u001b[1;33m=\u001b[0m \u001b[0mself\u001b[0m\u001b[1;33m.\u001b[0m\u001b[0mpwconv1\u001b[0m\u001b[1;33m(\u001b[0m\u001b[0mx\u001b[0m\u001b[1;33m)\u001b[0m\u001b[1;33m\u001b[0m\u001b[1;33m\u001b[0m\u001b[0m\n\u001b[0;32m    239\u001b[0m         \u001b[0mx\u001b[0m \u001b[1;33m=\u001b[0m \u001b[0mself\u001b[0m\u001b[1;33m.\u001b[0m\u001b[0mact\u001b[0m\u001b[1;33m(\u001b[0m\u001b[0mx\u001b[0m\u001b[1;33m)\u001b[0m\u001b[1;33m\u001b[0m\u001b[1;33m\u001b[0m\u001b[0m\n",
      "\u001b[1;32m~\\Anaconda3\\envs\\deeprisk_weak\\lib\\site-packages\\torch\\nn\\modules\\module.py\u001b[0m in \u001b[0;36m_call_impl\u001b[1;34m(self, *input, **kwargs)\u001b[0m\n\u001b[0;32m   1100\u001b[0m         if not (self._backward_hooks or self._forward_hooks or self._forward_pre_hooks or _global_backward_hooks\n\u001b[0;32m   1101\u001b[0m                 or _global_forward_hooks or _global_forward_pre_hooks):\n\u001b[1;32m-> 1102\u001b[1;33m             \u001b[1;32mreturn\u001b[0m \u001b[0mforward_call\u001b[0m\u001b[1;33m(\u001b[0m\u001b[1;33m*\u001b[0m\u001b[0minput\u001b[0m\u001b[1;33m,\u001b[0m \u001b[1;33m**\u001b[0m\u001b[0mkwargs\u001b[0m\u001b[1;33m)\u001b[0m\u001b[1;33m\u001b[0m\u001b[1;33m\u001b[0m\u001b[0m\n\u001b[0m\u001b[0;32m   1103\u001b[0m         \u001b[1;31m# Do not call functions when jit is used\u001b[0m\u001b[1;33m\u001b[0m\u001b[1;33m\u001b[0m\u001b[1;33m\u001b[0m\u001b[0m\n\u001b[0;32m   1104\u001b[0m         \u001b[0mfull_backward_hooks\u001b[0m\u001b[1;33m,\u001b[0m \u001b[0mnon_full_backward_hooks\u001b[0m \u001b[1;33m=\u001b[0m \u001b[1;33m[\u001b[0m\u001b[1;33m]\u001b[0m\u001b[1;33m,\u001b[0m \u001b[1;33m[\u001b[0m\u001b[1;33m]\u001b[0m\u001b[1;33m\u001b[0m\u001b[1;33m\u001b[0m\u001b[0m\n",
      "\u001b[1;32mH:\\deeprisk\\weakly_supervised\\code\\convnext.py\u001b[0m in \u001b[0;36mforward\u001b[1;34m(self, x)\u001b[0m\n\u001b[0;32m    330\u001b[0m     \u001b[1;32mdef\u001b[0m \u001b[0mforward\u001b[0m\u001b[1;33m(\u001b[0m\u001b[0mself\u001b[0m\u001b[1;33m,\u001b[0m \u001b[0mx\u001b[0m\u001b[1;33m)\u001b[0m\u001b[1;33m:\u001b[0m\u001b[1;33m\u001b[0m\u001b[1;33m\u001b[0m\u001b[0m\n\u001b[0;32m    331\u001b[0m         \u001b[1;32mif\u001b[0m \u001b[0mself\u001b[0m\u001b[1;33m.\u001b[0m\u001b[0mdata_format\u001b[0m \u001b[1;33m==\u001b[0m \u001b[1;34m\"channels_last\"\u001b[0m\u001b[1;33m:\u001b[0m\u001b[1;33m\u001b[0m\u001b[1;33m\u001b[0m\u001b[0m\n\u001b[1;32m--> 332\u001b[1;33m             \u001b[1;32mreturn\u001b[0m \u001b[0mF\u001b[0m\u001b[1;33m.\u001b[0m\u001b[0mlayer_norm\u001b[0m\u001b[1;33m(\u001b[0m\u001b[0mx\u001b[0m\u001b[1;33m,\u001b[0m \u001b[0mself\u001b[0m\u001b[1;33m.\u001b[0m\u001b[0mnormalized_shape\u001b[0m\u001b[1;33m,\u001b[0m \u001b[0mself\u001b[0m\u001b[1;33m.\u001b[0m\u001b[0mweight\u001b[0m\u001b[1;33m,\u001b[0m \u001b[0mself\u001b[0m\u001b[1;33m.\u001b[0m\u001b[0mbias\u001b[0m\u001b[1;33m,\u001b[0m \u001b[0mself\u001b[0m\u001b[1;33m.\u001b[0m\u001b[0meps\u001b[0m\u001b[1;33m)\u001b[0m\u001b[1;33m\u001b[0m\u001b[1;33m\u001b[0m\u001b[0m\n\u001b[0m\u001b[0;32m    333\u001b[0m         \u001b[1;32melif\u001b[0m \u001b[0mself\u001b[0m\u001b[1;33m.\u001b[0m\u001b[0mdata_format\u001b[0m \u001b[1;33m==\u001b[0m \u001b[1;34m\"channels_first\"\u001b[0m\u001b[1;33m:\u001b[0m\u001b[1;33m\u001b[0m\u001b[1;33m\u001b[0m\u001b[0m\n\u001b[0;32m    334\u001b[0m             \u001b[0mu\u001b[0m \u001b[1;33m=\u001b[0m \u001b[0mx\u001b[0m\u001b[1;33m.\u001b[0m\u001b[0mmean\u001b[0m\u001b[1;33m(\u001b[0m\u001b[1;36m1\u001b[0m\u001b[1;33m,\u001b[0m \u001b[0mkeepdim\u001b[0m\u001b[1;33m=\u001b[0m\u001b[1;32mTrue\u001b[0m\u001b[1;33m)\u001b[0m\u001b[1;33m\u001b[0m\u001b[1;33m\u001b[0m\u001b[0m\n",
      "\u001b[1;32m~\\Anaconda3\\envs\\deeprisk_weak\\lib\\site-packages\\torch\\nn\\functional.py\u001b[0m in \u001b[0;36mlayer_norm\u001b[1;34m(input, normalized_shape, weight, bias, eps)\u001b[0m\n\u001b[0;32m   2345\u001b[0m             \u001b[0mlayer_norm\u001b[0m\u001b[1;33m,\u001b[0m \u001b[1;33m(\u001b[0m\u001b[0minput\u001b[0m\u001b[1;33m,\u001b[0m \u001b[0mweight\u001b[0m\u001b[1;33m,\u001b[0m \u001b[0mbias\u001b[0m\u001b[1;33m)\u001b[0m\u001b[1;33m,\u001b[0m \u001b[0minput\u001b[0m\u001b[1;33m,\u001b[0m \u001b[0mnormalized_shape\u001b[0m\u001b[1;33m,\u001b[0m \u001b[0mweight\u001b[0m\u001b[1;33m=\u001b[0m\u001b[0mweight\u001b[0m\u001b[1;33m,\u001b[0m \u001b[0mbias\u001b[0m\u001b[1;33m=\u001b[0m\u001b[0mbias\u001b[0m\u001b[1;33m,\u001b[0m \u001b[0meps\u001b[0m\u001b[1;33m=\u001b[0m\u001b[0meps\u001b[0m\u001b[1;33m\u001b[0m\u001b[1;33m\u001b[0m\u001b[0m\n\u001b[0;32m   2346\u001b[0m         )\n\u001b[1;32m-> 2347\u001b[1;33m     \u001b[1;32mreturn\u001b[0m \u001b[0mtorch\u001b[0m\u001b[1;33m.\u001b[0m\u001b[0mlayer_norm\u001b[0m\u001b[1;33m(\u001b[0m\u001b[0minput\u001b[0m\u001b[1;33m,\u001b[0m \u001b[0mnormalized_shape\u001b[0m\u001b[1;33m,\u001b[0m \u001b[0mweight\u001b[0m\u001b[1;33m,\u001b[0m \u001b[0mbias\u001b[0m\u001b[1;33m,\u001b[0m \u001b[0meps\u001b[0m\u001b[1;33m,\u001b[0m \u001b[0mtorch\u001b[0m\u001b[1;33m.\u001b[0m\u001b[0mbackends\u001b[0m\u001b[1;33m.\u001b[0m\u001b[0mcudnn\u001b[0m\u001b[1;33m.\u001b[0m\u001b[0menabled\u001b[0m\u001b[1;33m)\u001b[0m\u001b[1;33m\u001b[0m\u001b[1;33m\u001b[0m\u001b[0m\n\u001b[0m\u001b[0;32m   2348\u001b[0m \u001b[1;33m\u001b[0m\u001b[0m\n\u001b[0;32m   2349\u001b[0m \u001b[1;33m\u001b[0m\u001b[0m\n",
      "\u001b[1;31mRuntimeError\u001b[0m: [enforce fail at ..\\c10\\core\\CPUAllocator.cpp:76] data. DefaultCPUAllocator: not enough memory: you tried to allocate 4816896 bytes."
     ]
    }
   ],
   "source": [
    "confusion_matrices[\"convnext_wide_deep_train\"] = evaluate(train_dataloader, convnext_wide_deep)\n",
    "confusion_matrices[\"convnext_wide_deep_val\"] = evaluate(val_dataloader, convnext_wide_deep)"
   ]
  },
  {
   "cell_type": "code",
   "execution_count": null,
   "id": "4bd14a85",
   "metadata": {},
   "outputs": [],
   "source": [
    "confusion_matrices[\"convnext_narrow_shallow_train\"] = evaluate(train_dataloader, convnext_narrow_shallow)\n",
    "confusion_matrices[\"convnext_narrow_shallow_val\"] = evaluate(val_dataloader, convnext_narrow_shallow)"
   ]
  },
  {
   "cell_type": "code",
   "execution_count": null,
   "id": "60358338",
   "metadata": {},
   "outputs": [],
   "source": [
    "confusion_matrices[\"convnext_narrow_medium_train\"] = evaluate(train_dataloader, convnext_narrow_medium)\n",
    "confusion_matrices[\"convnext_narrow_medium_val\"] = evaluate(val_dataloader, convnext_narrow_medium)"
   ]
  },
  {
   "cell_type": "code",
   "execution_count": null,
   "id": "e3226bcd",
   "metadata": {},
   "outputs": [],
   "source": [
    "confusion_matrices[\"convnext_narrow_deep_train\"] = evaluate(train_dataloader, convnext_narrow_deep)\n",
    "confusion_matrices[\"convnext_narrow_deep_val\"] = evaluate(val_dataloader, convnext_narrow_deep)"
   ]
  },
  {
   "cell_type": "markdown",
   "id": "8e9d0600",
   "metadata": {},
   "source": [
    "# Plot evaluation results"
   ]
  },
  {
   "cell_type": "code",
   "execution_count": 10,
   "id": "7c06d8e8",
   "metadata": {},
   "outputs": [
    {
     "name": "stdout",
     "output_type": "stream",
     "text": [
      "Accuracy =  0.9324384787472035\n",
      "Accuracy =  0.8345323741007195\n"
     ]
    },
    {
     "data": {
      "image/png": "[encoded data removed]",
      "text/plain": [
       "<Figure size 720x504 with 2 Axes>"
      ]
     },
     "metadata": {
      "needs_background": "light"
     },
     "output_type": "display_data"
    },
    {
     "data": {
      "image/png": "[encoded data removed]",
      "text/plain": [
       "<Figure size 720x504 with 2 Axes>"
      ]
     },
     "metadata": {
      "needs_background": "light"
     },
     "output_type": "display_data"
    }
   ],
   "source": [
    "\n",
    "show_results(confusion_matrices[\"resnet18_7x7_train\"])\n",
    "show_results(confusion_matrices[\"resnet18_7x7_val\"])"
   ]
  },
  {
   "cell_type": "code",
   "execution_count": 11,
   "id": "c0cdaf6c",
   "metadata": {},
   "outputs": [
    {
     "name": "stdout",
     "output_type": "stream",
     "text": [
      "Accuracy =  0.887248322147651\n",
      "Accuracy =  0.8183453237410072\n"
     ]
    },
    {
     "data": {
      "image/png": "[encoded data removed]",
      "text/plain": [
       "<Figure size 720x504 with 2 Axes>"
      ]
     },
     "metadata": {
      "needs_background": "light"
     },
     "output_type": "display_data"
    },
    {
     "data": {
      "image/png": "[encoded data removed]",
      "text/plain": [
       "<Figure size 720x504 with 2 Axes>"
      ]
     },
     "metadata": {
      "needs_background": "light"
     },
     "output_type": "display_data"
    }
   ],
   "source": [
    "show_results(confusion_matrices[\"resnet18_14x14_train\"])\n",
    "show_results(confusion_matrices[\"resnet18_14x14_val\"])"
   ]
  },
  {
   "cell_type": "code",
   "execution_count": 12,
   "id": "baa3f93d",
   "metadata": {},
   "outputs": [
    {
     "name": "stdout",
     "output_type": "stream",
     "text": [
      "Accuracy =  0.7932885906040269\n",
      "Accuracy =  0.7212230215827338\n"
     ]
    },
    {
     "data": {
      "image/png": "[encoded data removed]",
      "text/plain": [
       "<Figure size 720x504 with 2 Axes>"
      ]
     },
     "metadata": {
      "needs_background": "light"
     },
     "output_type": "display_data"
    },
    {
     "data": {
      "image/png": "[encoded data removed]",
      "text/plain": [
       "<Figure size 720x504 with 2 Axes>"
      ]
     },
     "metadata": {
      "needs_background": "light"
     },
     "output_type": "display_data"
    }
   ],
   "source": [
    "show_results(confusion_matrices[\"convnext_wide_shallow_train\"])\n",
    "show_results(confusion_matrices[\"convnext_wide_shallow_val\"])"
   ]
  },
  {
   "cell_type": "code",
   "execution_count": 13,
   "id": "fffd992a",
   "metadata": {},
   "outputs": [
    {
     "name": "stdout",
     "output_type": "stream",
     "text": [
      "Accuracy =  0.8013422818791947\n",
      "Accuracy =  0.7194244604316546\n"
     ]
    },
    {
     "data": {
      "image/png": "[encoded data removed]",
      "text/plain": [
       "<Figure size 720x504 with 2 Axes>"
      ]
     },
     "metadata": {
      "needs_background": "light"
     },
     "output_type": "display_data"
    },
    {
     "data": {
      "image/png": "[encoded data removed]",
      "text/plain": [
       "<Figure size 720x504 with 2 Axes>"
      ]
     },
     "metadata": {
      "needs_background": "light"
     },
     "output_type": "display_data"
    }
   ],
   "source": [
    "show_results(confusion_matrices[\"convnext_wide_medium_train\"])\n",
    "show_results(confusion_matrices[\"convnext_wide_medium_val\"])"
   ]
  },
  {
   "cell_type": "code",
   "execution_count": 14,
   "id": "ac83c4bd",
   "metadata": {},
   "outputs": [
    {
     "ename": "KeyError",
     "evalue": "'convnext_wide_deep_train'",
     "output_type": "error",
     "traceback": [
      "\u001b[1;31m---------------------------------------------------------------------------\u001b[0m",
      "\u001b[1;31mKeyError\u001b[0m                                  Traceback (most recent call last)",
      "\u001b[1;32m~\\AppData\\Local\\Temp/ipykernel_14956/380841232.py\u001b[0m in \u001b[0;36m<module>\u001b[1;34m\u001b[0m\n\u001b[1;32m----> 1\u001b[1;33m \u001b[0mshow_results\u001b[0m\u001b[1;33m(\u001b[0m\u001b[0mconfusion_matrices\u001b[0m\u001b[1;33m[\u001b[0m\u001b[1;34m\"convnext_wide_deep_train\"\u001b[0m\u001b[1;33m]\u001b[0m\u001b[1;33m)\u001b[0m\u001b[1;33m\u001b[0m\u001b[1;33m\u001b[0m\u001b[0m\n\u001b[0m\u001b[0;32m      2\u001b[0m \u001b[0mshow_results\u001b[0m\u001b[1;33m(\u001b[0m\u001b[0mconfusion_matrices\u001b[0m\u001b[1;33m[\u001b[0m\u001b[1;34m\"convnext_wide_deep_val\"\u001b[0m\u001b[1;33m]\u001b[0m\u001b[1;33m)\u001b[0m\u001b[1;33m\u001b[0m\u001b[1;33m\u001b[0m\u001b[0m\n",
      "\u001b[1;31mKeyError\u001b[0m: 'convnext_wide_deep_train'"
     ]
    }
   ],
   "source": [
    "show_results(confusion_matrices[\"convnext_wide_deep_train\"])\n",
    "show_results(confusion_matrices[\"convnext_wide_deep_val\"])"
   ]
  },
  {
   "cell_type": "code",
   "execution_count": null,
   "id": "0a020b5c",
   "metadata": {},
   "outputs": [],
   "source": [
    "show_results(confusion_matrices[\"convnext_narrow_shallow_train\"])\n",
    "show_results(confusion_matrices[\"convnext_narrow_shallow_val\"])"
   ]
  },
  {
   "cell_type": "code",
   "execution_count": null,
   "id": "b3e9c4ae",
   "metadata": {},
   "outputs": [],
   "source": [
    "show_results(confusion_matrices[\"convnext_narrow_medium_train\"])\n",
    "show_results(confusion_matrices[\"convnext_narrow_medium_val\"])"
   ]
  },
  {
   "cell_type": "code",
   "execution_count": null,
   "id": "1ecdd448",
   "metadata": {},
   "outputs": [],
   "source": [
    "show_results(confusion_matrices[\"convnext_narrow_deep_train\"])\n",
    "show_results(confusion_matrices[\"convnext_narrow_deep_val\"])"
   ]
  },
  {
   "cell_type": "code",
   "execution_count": null,
   "id": "af7b42e0",
   "metadata": {},
   "outputs": [],
   "source": []
  }
 ],
 "metadata": {
  "kernelspec": {
   "display_name": "Python 3 (ipykernel)",
   "language": "python",
   "name": "python3"
  },
  "language_info": {
   "codemirror_mode": {
    "name": "ipython",
    "version": 3
   },
   "file_extension": ".py",
   "mimetype": "text/x-python",
   "name": "python",
   "nbconvert_exporter": "python",
   "pygments_lexer": "ipython3",
   "version": "3.8.12"
  }
 },
 "nbformat": 4,
 "nbformat_minor": 5
}
