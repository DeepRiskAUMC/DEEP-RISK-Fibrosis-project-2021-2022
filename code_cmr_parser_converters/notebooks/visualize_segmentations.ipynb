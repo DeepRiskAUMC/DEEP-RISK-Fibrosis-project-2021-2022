{
 "cells": [
  {
   "cell_type": "code",
   "execution_count": 2,
   "metadata": {},
   "outputs": [],
   "source": [
    "import matplotlib.cm as cm\n",
    "import matplotlib.pyplot as plt\n",
    "import numpy as np\n",
    "import SimpleITK as sitk\n",
    "import torch\n",
    "import os\n",
    "import torchvision\n",
    "from scipy.ndimage import binary_erosion\n",
    "import matplotlib.colors as colors"
   ]
  },
  {
   "cell_type": "markdown",
   "metadata": {},
   "source": [
    "python e_inference_myocard_segmentation.py --input_path \"L:\\basic\\Personal Archive\\E\\emquist\\parsing_MRI\\new_test_seg\\lge_for_merged\" --output_path \"L:\\basic\\Personal Archive\\E\\emquist\\parsing_MRI\\new_test_seg\\myo_predictions\" --load_checkpoint \"L:\\basic\\diva1\\Onderzoekers\\DEEP-RISK\\DEEP-RISK\\models_Roel\\tb_logs_segmentation_myo\\unet_myo_PSIR\\version_1\\checkpoints\\epoch=119-step=6960.ckpt\" --center_crop 200 --resize 224 --input_extension nii.gz --files_must_contain psir"
   ]
  },
  {
   "cell_type": "markdown",
   "metadata": {},
   "source": [
    "# Visualize LGE myocard"
   ]
  },
  {
   "cell_type": "code",
   "execution_count": null,
   "metadata": {},
   "outputs": [],
   "source": [
    "def visualize_stack(img, *segmentations):\n",
    "    \"\"\" Visualize the images and their segmentations for debugging purposes.\n",
    "    number of arguments for segmentations is variable, each type will be shown\n",
    "    in a different column, e.g. both myocardium and fibrosis segmentations.\n",
    "\n",
    "    img and segmentations should be either (D, C, H, W) or (C, D, H, W),\n",
    "    with number of channels C=1, which will be converted to (D, C, H, W).\n",
    "    \"\"\"\n",
    "    #C, D, H, W = img.shape\n",
    "    #img = img.view(D, C, H, W)\n",
    "    #myo_seg = myo_seg.view(D, C, H, W)\n",
    "    print(f\"{img.shape=}\")\n",
    "    print(f\"{img.mean()=}\")\n",
    "    img = img.squeeze().unsqueeze(1) # set channel dimension at dim 1\n",
    "    grid_img = torchvision.utils.make_grid(img, nrow=4, normalize=True, padding=2).detach().cpu()\n",
    "    num_rows = len(segmentations)+1\n",
    "    fig, axs = plt.subplots(1, num_rows, figsize=(8*num_rows, 8))\n",
    "    fig.colorbar(cm.ScalarMappable(cmap='bwr'), ax=axs.ravel().tolist())\n",
    "    axs[0].imshow(grid_img[0,:,:], cmap='gray')\n",
    "    axs[0].set_title(\"LGE Image\")\n",
    "    for i, segmentation in enumerate(segmentations):\n",
    "        segmentation = segmentation.squeeze().unsqueeze(1) # set channel dimension at dim 1\n",
    "        assert img.shape == segmentation.shape, f\"{img.shape=} {segmentation.shape=}\"\n",
    "        grid_seg = torchvision.utils.make_grid(segmentation, nrow=4, padding=2).cpu().detach()\n",
    "        grid_seg = np.ma.masked_where(grid_seg <= 0.2, grid_seg)\n",
    "        axs[i+1].imshow(grid_img[0,:,:], cmap='gray', vmin=0, vmax=1)\n",
    "        axs[i+1].imshow(grid_seg[0,:,:], cmap='bwr', alpha=0.8, vmin=0, vmax=1)\n",
    "\n",
    "    for i in range(num_rows):\n",
    "        axs[i].set_axis_off()\n",
    "    plt.show()\n",
    "    return"
   ]
  },
  {
   "cell_type": "code",
   "execution_count": 3,
   "metadata": {},
   "outputs": [
    {
     "ename": "",
     "evalue": "",
     "output_type": "error",
     "traceback": [
      "\u001b[1;31mThe Kernel crashed while executing code in the the current cell or a previous cell. Please review the code in the cell(s) to identify a possible cause of the failure. Click <a href='https://aka.ms/vscodeJupyterKernelCrash'>here</a> for more info. View Jupyter <a href='command:jupyter.viewOutput'>log</a> for further details."
     ]
    }
   ],
   "source": [
    "myo_f = sitk.ReadImage(f\"L:\\\\basic\\Personal Archive\\E\\emquist\\parsing_MRI\\\\final_test_seg\\myo_pred_all_lge/11_sagittal_tfi_psir_single-shot_10sl_ipat_sa_psir_(192,144)_myo_pred.nrrd\")\n",
    "# segmentation = sitk.PermuteAxes(segmentation, [2,0,  1])\n",
    "# Convert the SimpleITK image to a NumPy array\n",
    "myo_segmentation = sitk.GetArrayFromImage(myo_f)\n",
    "myo_segmentation = torch.Tensor(myo_segmentation.astype('float'))\n",
    "\n",
    "# visualize_stack(img, myo_segmentation)\n",
    "plt.imshow(myo_segmentation[6, ...], cmap='gray')\n",
    "# plt.title('Your Image Title')\n",
    "plt.axis('off')  # Turn off axis labels\n",
    "plt.show()"
   ]
  },
  {
   "cell_type": "code",
   "execution_count": null,
   "metadata": {},
   "outputs": [],
   "source": [
    "img_file = '35_sagittal_sa_psir_(192,144)'\n",
    "# img_file = ('_').join(fib_file.split('_')[:-2])\n",
    "\n",
    "\n",
    "# Load the NRRD file\n",
    "# fib_f = sitk.ReadImage(f\"L:/basic\\Personal Archive\\E\\emquist\\parsing_MRI/new_test_seg/fib_predictions/{img_file}_fib_pred.nrrd\")\n",
    "# # segmentation = sitk.PermuteAxes(segmentation, [2,0,  1])\n",
    "# # Convert the SimpleITK image to a NumPy array\n",
    "# fib_segmentation = sitk.GetArrayFromImage(fib_f)\n",
    "# fib_segmentation = torch.Tensor(fib_segmentation.astype('float'))\n",
    "\n",
    "# Load the NRRD file\n",
    "# img_f = sitk.ReadImage(f\"L:/basic\\Personal Archive\\E\\emquist\\parsing_MRI/new_test_seg/lge_for_merged/{img_file}.nii.gz\")\n",
    "# # Convert the SimpleITK image to a NumPy array\n",
    "# # img = sitk.PermuteAxes(img, [2,0,  1])\n",
    "# img = sitk.GetArrayFromImage(img_f)\n",
    "# img = torch.Tensor(img.astype('float'))\n",
    "\n",
    "# Load the NRRD file\n",
    "myo_f = sitk.ReadImage(f\"L:\\\\basic\\Personal Archive\\E\\emquist\\parsing_MRI\\\\final_test_seg\\myo_pred_all_lge/11_sagittal_tfi_psir_single-shot_10sl_ipat_sa_psir_(192,144)_myo_pred.nrrd\")\n",
    "# segmentation = sitk.PermuteAxes(segmentation, [2,0,  1])\n",
    "# Convert the SimpleITK image to a NumPy array\n",
    "myo_segmentation = sitk.GetArrayFromImage(myo_f[6, ...], cmap='gray')\n",
    "myo_segmentation = torch.Tensor(myo_segmentation.astype('float'))\n",
    "\n",
    "# visualize_stack(img, myo_segmentation)\n",
    "plt.imshow(myo_segmentation[10])\n",
    "# plt.title('Your Image Title')\n",
    "plt.axis('off')  # Turn off axis labels\n",
    "plt.show()"
   ]
  },
  {
   "cell_type": "code",
   "execution_count": null,
   "metadata": {},
   "outputs": [],
   "source": [
    "# def extract_segmentation_boundaries(segmentation_array):\n",
    "#     # Perform binary thresholding to obtain a binary mask\n",
    "#     threshold = 0.95  # Adjust this threshold based on your segmentation values\n",
    "#     binary_mask = (segmentation_array < threshold) > 0.05\n",
    "\n",
    "#     # Perform morphological erosion to obtain the boundaries\n",
    "#     eroded_mask = binary_erosion(binary_mask)\n",
    "#     outer_boundary = binary_mask.astype(np.uint8) - eroded_mask.astype(np.uint8)\n",
    "#     rest = segmentation_array - outer_boundary\n",
    "#     return outer_boundary\n",
    "\n",
    "# Read the NIfTI image\n",
    "# nifti_image = sitk.ReadImage('original.nii.gz')\n",
    "nifti_array = sitk.GetArrayFromImage(img_f)\n",
    "\n",
    "# Read the NRRD segmentation\n",
    "# nrrd_image = sitk.ReadImage('segmentation.nrrd')\n",
    "myo_array = sitk.GetArrayFromImage(myo_f)\n",
    "myo_masked = np.ma.masked_outside(myo_array, 0.03, 0.97)\n",
    "# outer_boundary = extract_segmentation_boundaries(myo_array)\n",
    "# fib_array = sitk.GetArrayFromImage(fib_f)\n",
    "# fib_masked = np.ma.masked_where(fib_array < 0.5, fib_array)\n",
    "\n",
    "masked_color = 'blue'\n",
    "cmap = colors.ListedColormap([masked_color])\n",
    "norm = colors.Normalize(vmin=0, vmax=1)\n",
    "\n",
    "# Plot the original NIfTI image and the segmentation boundaries\n",
    "fig, ax = plt.subplots(1, 2, figsize=(10, 5))\n",
    "ax[0].imshow(nifti_array[6, ...], cmap='gray')\n",
    "ax[0].set_title('Original NIfTI Image')\n",
    "ax[1].imshow(nifti_array[6, ...], cmap='gray')\n",
    "ax[1].imshow(myo_masked[6, ...], cmap='plasma', norm=norm, alpha=0.8)\n",
    "# ax[1].imshow(fib_masked[6,:,:], cmap='bwr', vmin=0, vmax=1)\n",
    "ax[1].set_title('Segmentation Boundaries')\n",
    "ax[1].set_axis_off()\n",
    "ax[0].set_axis_off()\n",
    "\n",
    "plt.show()\n",
    "plt.savefig(f\"L:/basic\\Personal Archive\\E\\emquist\\parsing_MRI/test_mri_seg/vis_try.png\")\n"
   ]
  },
  {
   "cell_type": "code",
   "execution_count": null,
   "metadata": {},
   "outputs": [],
   "source": [
    "def get_pixel_intensities(niftis, myo_pred, norm_scan_intenities):\n",
    "    blood_pool_intensities, heart_muscle_intensities = [], []\n",
    "\n",
    "    for i, scan in enumerate(niftis):\n",
    "        #         plot_annotated_scan(scan)\n",
    "        threshold = 0.6\n",
    "        heart_muscle_mask = (myo_pred[i] > threshold) \n",
    "        dicom_img = niftis[i]#.astype(float)\n",
    "        if norm_scan_intenities:\n",
    "            try:\n",
    "                dicom_img -= dicom_img[heart_muscle_mask].min()\n",
    "                dicom_img /= dicom_img[heart_muscle_mask].max()\n",
    "            except:\n",
    "                continue\n",
    "        heart_muscle_intensities += dicom_img[heart_muscle_mask].tolist()\n",
    "\n",
    "    return dicom_img, heart_muscle_intensities"
   ]
  },
  {
   "cell_type": "code",
   "execution_count": null,
   "metadata": {},
   "outputs": [],
   "source": [
    "from skimage import measure"
   ]
  },
  {
   "cell_type": "code",
   "execution_count": null,
   "metadata": {},
   "outputs": [],
   "source": [
    "def visualize_stack(img_file, save):\n",
    "    \"\"\" Visualize the images and their segmentations for debugging purposes.\n",
    "    number of arguments for segmentations is variable, each type will be shown\n",
    "    in a different column, e.g. both myocardium and fibrosis segmentations.\n",
    "\n",
    "    img and segmentations should be either (D, C, H, W) or (C, D, H, W),\n",
    "    with number of channels C=1, which will be converted to (D, C, H, W).\n",
    "    \"\"\"\n",
    "    #C, D, H, W = img.shape\n",
    "    #img = img.view(D, C, H, W)\n",
    "    #myo_seg = myo_seg.view(D, C, H, W)\n",
    "    # print(f\"{img.shape=}\")\n",
    "    # print(f\"{img.mean()=}\")\n",
    "    out_path = \"L:/basic\\Personal Archive\\E\\emquist\\parsing_MRI/new_test_seg/visualizations/\"\n",
    "    if not os.path.exists(out_path):\n",
    "        os.makedirs(out_path)\n",
    "    # # Load the NRRD file\n",
    "    # fib_f = sitk.ReadImage(f\"L:/basic\\Personal Archive\\E\\emquist\\parsing_MRI/test_mri_seg/fib_predictions/{img_file}_fib_pred.nrrd\")\n",
    "    # fib_segmentation = sitk.GetArrayFromImage(fib_f)\n",
    "    # fib_segmentation = torch.Tensor(fib_segmentation.astype('float'))\n",
    "\n",
    "    # Load the NRRD file\n",
    "    img_f = sitk.ReadImage(f\"L:/basic\\Personal Archive\\E\\emquist\\parsing_MRI/new_test_seg/lge_for_merged/{img_file}.nii.gz\")\n",
    "    img = sitk.GetArrayFromImage(img_f)\n",
    "    img = torch.Tensor(img.astype('float'))\n",
    "\n",
    "    # Load the NRRD file\n",
    "    myo_f = sitk.ReadImage(f\"L:/basic\\Personal Archive\\E\\emquist\\parsing_MRI/new_test_seg/myo_predictions/{img_file}_myo_pred.nrrd\")\n",
    "    myo_seg = sitk.GetArrayFromImage(myo_f)\n",
    "    myo_segmentation = torch.Tensor(myo_seg.astype('float'))\n",
    "    \n",
    "\n",
    "    img = img.squeeze().unsqueeze(1) # set channel dimension at dim 1\n",
    "    grid_img = torchvision.utils.make_grid(img, nrow=4, normalize=True, padding=2).detach().cpu()\n",
    "    num_rows = 2\n",
    "    fig, axs = plt.subplots(1, num_rows, figsize=(8*num_rows, 8))\n",
    "    # fig.colorbar(cm.ScalarMappable(cmap='bwr'), ax=axs.ravel().tolist())\n",
    "    axs[0].imshow(grid_img[0,:,:], cmap='gray')\n",
    "    axs[0].set_title(\"LGE Image\")\n",
    "    for i, myo in enumerate([myo_segmentation]):\n",
    "        myo = myo.squeeze().unsqueeze(1) # set channel dimension at dim 1\n",
    "        assert img.shape == myo.shape, f\"{img.shape=} {myo.shape=}\"\n",
    "        \n",
    "        myo = torchvision.utils.make_grid(myo, nrow=4, padding=2).cpu().detach()\n",
    "        original_image = (grid_img[0, :, :]).numpy()\n",
    "        masked_image = original_image\n",
    "        # Compute the contour of the myocardium segmentation\n",
    "        contours = measure.find_contours((myo[0, :, :]).numpy(), 0.5) \n",
    "        # Display the original image\n",
    "        # Plot the myocardium contour\n",
    "        for contour in contours:\n",
    "            plt.plot(contour[:, 1], contour[:, 0], linewidth=.5, color='red')\n",
    "\n",
    "        # Create a mask from the contour\n",
    "        mask = np.zeros_like(original_image)\n",
    "        for contour in contours:\n",
    "            contour = np.round(contour).astype(int)\n",
    "            mask[contour[:, 0], contour[:, 1]] = 1\n",
    "\n",
    "        # Set the region outside the contour to a lower transparency value\n",
    "        outside = np.where(mask == 0)\n",
    "        masked_image[outside] *= 0.7  # Adjust the transparency value as needed\n",
    "\n",
    "        # Overlay the modified original image on top of the plo\n",
    "        # fib = fib_segmentation.squeeze().unsqueeze(1)\n",
    "        # fib = torchvision.utils.make_grid(fib, nrow=4, padding=2).cpu().detach()\n",
    "        # fib_masked = np.ma.masked_where(fib < 0.1, fib)# grid_seg = np.ma.masked_where(grid_seg <= 0, grid_seg)\n",
    "\n",
    "        axs[i+1].imshow(masked_image, cmap=\"gray\", alpha=0.7)\n",
    "        # axs[i+1].imshow(fib_masked[0,:,:], cmap='plasma')\n",
    "\n",
    "    for i in range(num_rows):\n",
    "        axs[i].set_axis_off()\n",
    "        \n",
    "    if save:\n",
    "        plt.savefig(out_path + f\"{img_file}.png\")\n",
    "    else:\n",
    "        plt.show()\n",
    "    plt.close()"
   ]
  },
  {
   "cell_type": "code",
   "execution_count": null,
   "metadata": {},
   "outputs": [],
   "source": [
    "# from pathlib import Path\n",
    "# FIB_DIR = Path(\"L:/basic\\Personal Archive\\E\\emquist\\parsing_MRI/test_mri_seg/fib_predictions\")\n",
    "# must_contain = 'psir'\n",
    "# extension = 'nrrd'\n",
    "# fib_files =  [f for f in sorted(FIB_DIR.glob(f'*{must_contain}*.{extension}'))]\n",
    "# for fib_file in fib_files:\n",
    "#     fib_file = (\"_\").join((Path(fib_file).stem).split(\"_\")[:-2])\n",
    "#     # print(fib_file)\n",
    "#     visualize_stack(fib_file, True)"
   ]
  },
  {
   "cell_type": "code",
   "execution_count": null,
   "metadata": {},
   "outputs": [],
   "source": [
    "%reload_ext autoreload\n",
    "%autoreload 2\n",
    "%matplotlib inline\n",
    "\n",
    "from collections import defaultdict, OrderedDict, Counter\n",
    "import copy\n",
    "import time\n",
    "import numpy as np\n",
    "from pprint import pprint\n",
    "import matplotlib.pyplot as plt\n",
    "from pathlib import Path\n",
    "import matplotlib.image as mpimg\n",
    "from datetime import date, datetime\n",
    "import uuid\n",
    "import os\n",
    "from PIL import Image\n",
    "import io\n",
    "import pickle"
   ]
  },
  {
   "cell_type": "code",
   "execution_count": null,
   "metadata": {},
   "outputs": [],
   "source": [
    "IN_DIR_NIFTI = Path(\"L:/basic\\Personal Archive\\E\\emquist\\parsing_MRI/new_test_seg/lge_for_merged\")\n",
    "IN_DIR_MYO = Path(\"L:/basic\\Personal Archive\\E\\emquist\\parsing_MRI/new_test_seg/myo_predictions\")\n",
    "extension_myo = 'nrrd'\n",
    "mcl = 'psir'\n",
    "extension_nifti = 'nii.gz'\n",
    "# nifti_files = [sitk.GetArrayFromImage(sitk.ReadImage(x)) for x in sorted(IN_DIR_NIFTI.glob(f'*{mcl}*.{extension_nifti}'))]\n",
    "# myo_pred = [sitk.GetArrayFromImage(sitk.ReadImage(x)) for x in sorted(IN_DIR_MYO.glob(f'*{mcl}*.{extension_myo}'))]"
   ]
  },
  {
   "cell_type": "code",
   "execution_count": null,
   "metadata": {},
   "outputs": [],
   "source": []
  },
  {
   "cell_type": "code",
   "execution_count": null,
   "metadata": {},
   "outputs": [],
   "source": [
    "def plot_pixel_intensities_hist(niftis, myo_pred, norm_scan_intenities):\n",
    "    heart_muscle_intensities = get_pixel_intensities(niftis, myo_pred, norm_scan_intenities)\n",
    "    plt.figure(figsize=(14, 8))\n",
    "    plt.hist([heart_muscle_intensities], bins=100)\n",
    "    plt.legend([\"heart muscle\"])\n",
    "    plt.xlabel(\"pixel intensity\")\n",
    "    norm_scan_intenities_txt = \"normed\" if norm_scan_intenities else \"\"\n",
    "    plt.title(\"Hisotgram of pixel intensities \" + norm_scan_intenities_txt)"
   ]
  },
  {
   "cell_type": "code",
   "execution_count": null,
   "metadata": {},
   "outputs": [],
   "source": [
    "# plot_pixel_intensities_hist(nifti_files, myo_pred, norm_scan_intenities=False)"
   ]
  },
  {
   "cell_type": "code",
   "execution_count": null,
   "metadata": {},
   "outputs": [],
   "source": [
    "plot_pixel_intensities_hist(nifti_files, myo_pred, norm_scan_intenities=True)"
   ]
  },
  {
   "cell_type": "code",
   "execution_count": null,
   "metadata": {},
   "outputs": [],
   "source": []
  },
  {
   "cell_type": "code",
   "execution_count": null,
   "metadata": {},
   "outputs": [],
   "source": []
  }
 ],
 "metadata": {
  "kernelspec": {
   "display_name": "parsing_mri",
   "language": "python",
   "name": "python3"
  },
  "language_info": {
   "codemirror_mode": {
    "name": "ipython",
    "version": 3
   },
   "file_extension": ".py",
   "mimetype": "text/x-python",
   "name": "python",
   "nbconvert_exporter": "python",
   "pygments_lexer": "ipython3",
   "version": "3.11.4"
  },
  "orig_nbformat": 4
 },
 "nbformat": 4,
 "nbformat_minor": 2
}
